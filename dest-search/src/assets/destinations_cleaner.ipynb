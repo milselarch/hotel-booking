{
 "cells": [
  {
   "cell_type": "code",
   "execution_count": 2,
   "metadata": {},
   "outputs": [],
   "source": [
    "import json\n",
    "import copy\n",
    "fin = open('destinations.json', \"r\", encoding = \"utf8\")\n",
    "destinations = json.load(fin)"
   ]
  },
  {
   "cell_type": "code",
   "execution_count": 3,
   "metadata": {},
   "outputs": [
    {
     "name": "stdout",
     "output_type": "stream",
     "text": [
      "<class 'list'>\n"
     ]
    }
   ],
   "source": [
    "print(type(destinations))"
   ]
  },
  {
   "cell_type": "code",
   "execution_count": 4,
   "metadata": {},
   "outputs": [
    {
     "name": "stdout",
     "output_type": "stream",
     "text": [
      "[{'term': 'Rome, Italy', 'uid': 'A6Dz', 'lat': 41.895466, 'lng': 12.482324, 'type': 'city', 'state': 'Lazio'}, {'term': 'Bali, Indonesia', 'uid': 'WP3Z', 'lat': -8.409518, 'lng': 115.187989, 'type': 'city'}, {'term': 'London, England, United Kingdom', 'uid': 'jC3Y', 'lat': 51.5082616708, 'lng': -0.128059387207, 'type': 'city', 'state': 'England'}, {'term': 'Paris, France', 'uid': 'vJh2', 'lat': 48.856667, 'lng': 2.350987, 'type': 'city', 'state': 'Ile-de-France'}, {'term': 'Stratford, United Kingdom', 'uid': 'P4FZ', 'lat': 51.539992, 'lng': 0.005156, 'type': 'city'}, {'term': 'Barcelona, Spain', 'uid': 'FkG9', 'lat': 41.387917, 'lng': 2.169919, 'type': 'city', 'state': 'Barcelona'}, {'term': 'Istanbul, Turkey', 'uid': 'EWUH', 'lat': 41.0157901521, 'lng': 28.9750442561, 'type': 'city'}, {'term': 'Rome, Italy (CIA-Ciampino)', 'uid': 'I7E8', 'lat': 41.799309, 'lng': 12.591091, 'type': 'airport'}, {'term': 'Rome, Italy (FCO-Fiumicino - Leonardo da Vinci Intl.)', 'uid': '9KUU', 'lat': 41.795616, 'lng': 12.251165, 'type': 'airport'}, {'term': 'Alicante, Spain', 'uid': '6FXD', 'lat': 38.345203, 'lng': -0.481006, 'type': 'city', 'state': 'Valencian Community'}]\n"
     ]
    }
   ],
   "source": [
    "cleaned = copy.deepcopy(destinations)\n",
    "# remove all the empty entries and QA testing entries first\n",
    "for dest in destinations:\n",
    "    if (dest.get(\"uid\") == None) or (\"QA, Test\" in dest.get(\"term\")):\n",
    "        cleaned.remove(dest)\n",
    "\n",
    "print(cleaned[:10])"
   ]
  },
  {
   "cell_type": "code",
   "execution_count": 5,
   "metadata": {},
   "outputs": [
    {
     "name": "stdout",
     "output_type": "stream",
     "text": [
      "[{'term': 'Rome, Italy', 'uid': 'A6Dz'}, {'term': 'Bali, Indonesia', 'uid': 'WP3Z'}, {'term': 'London, England, United Kingdom', 'uid': 'jC3Y'}, {'term': 'Paris, France', 'uid': 'vJh2'}, {'term': 'Stratford, United Kingdom', 'uid': 'P4FZ'}, {'term': 'Barcelona, Spain', 'uid': 'FkG9'}, {'term': 'Istanbul, Turkey', 'uid': 'EWUH'}, {'term': 'Rome, Italy (CIA-Ciampino)', 'uid': 'I7E8'}, {'term': 'Rome, Italy (FCO-Fiumicino - Leonardo da Vinci Intl.)', 'uid': '9KUU'}, {'term': 'Alicante, Spain', 'uid': '6FXD'}]\n"
     ]
    }
   ],
   "source": [
    "# migrate only the wanted key-value pairs to the new file\n",
    "output = []\n",
    "for dest in cleaned:\n",
    "    new_dest = {}\n",
    "    new_dest[\"term\"] = dest[\"term\"]\n",
    "    new_dest[\"uid\"] = dest[\"uid\"]\n",
    "    output.append(new_dest)\n",
    "\n",
    "print(output[:10])\n"
   ]
  },
  {
   "cell_type": "code",
   "execution_count": 5,
   "metadata": {},
   "outputs": [],
   "source": [
    "# create a json file with only the cleaned data containing uid and term\n",
    "with open(\"cleaned_destinations.json\", \"w\", encoding=\"utf8\") as fout:\n",
    "    # json_object = json.dumps(output, indent=4)\n",
    "    # fout.write(json_object)\n",
    "    # write to the file in a compact manner\n",
    "    json.dump(output, fout)"
   ]
  },
  {
   "cell_type": "code",
   "execution_count": 6,
   "metadata": {},
   "outputs": [
    {
     "name": "stderr",
     "output_type": "stream",
     "text": [
      "IOPub data rate exceeded.\n",
      "The notebook server will temporarily stop sending output\n",
      "to the client in order to avoid crashing it.\n",
      "To change this limit, set the config variable\n",
      "`--NotebookApp.iopub_data_rate_limit`.\n",
      "\n",
      "Current values:\n",
      "NotebookApp.iopub_data_rate_limit=1000000.0 (bytes/sec)\n",
      "NotebookApp.rate_limit_window=3.0 (secs)\n",
      "\n"
     ]
    }
   ],
   "source": [
    "# convert the output into a 2d array\n",
    "output_array = []\n",
    "uid = []\n",
    "term = []\n",
    "for dest in output:\n",
    "    uid.append(dest[\"uid\"])\n",
    "    term.append(dest[\"term\"])\n",
    "\n",
    "output_array.append(uid)\n",
    "output_array.append(term)\n",
    "print(output_array[:10])"
   ]
  },
  {
   "cell_type": "code",
   "execution_count": 7,
   "metadata": {},
   "outputs": [],
   "source": [
    "with open(\"cleaned_destinations_2d_array.json\", \"w\", encoding=\"utf8\") as fout:\n",
    "    # json_object = json.dumps(output, indent=4)\n",
    "    # fout.write(json_object)\n",
    "    # write to the file in a compact manner\n",
    "    json.dump(output_array, fout)\n"
   ]
  }
 ],
 "metadata": {
  "kernelspec": {
   "display_name": "Python 3 (ipykernel)",
   "language": "python",
   "name": "python3"
  },
  "language_info": {
   "codemirror_mode": {
    "name": "ipython",
    "version": 3
   },
   "file_extension": ".py",
   "mimetype": "text/x-python",
   "name": "python",
   "nbconvert_exporter": "python",
   "pygments_lexer": "ipython3",
   "version": "3.10.5"
  },
  "vscode": {
   "interpreter": {
    "hash": "336ea45aef74e882eaacb1f2a00a601f04fd180bfcf8a51d3bb9adf8979bffee"
   }
  }
 },
 "nbformat": 4,
 "nbformat_minor": 2
}
