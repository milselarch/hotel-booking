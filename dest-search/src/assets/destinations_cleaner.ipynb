{
 "cells": [
  {
   "cell_type": "code",
   "execution_count": 1,
   "metadata": {},
   "outputs": [],
   "source": [
    "import json\n",
    "import copy\n",
    "fin = open('destinations.json', \"r\", encoding = \"utf8\")\n",
    "destinations = json.load(fin)"
   ]
  },
  {
   "cell_type": "code",
   "execution_count": 2,
   "metadata": {},
   "outputs": [
    {
     "name": "stdout",
     "output_type": "stream",
     "text": [
      "<class 'list'>\n"
     ]
    }
   ],
   "source": [
    "print(type(destinations))"
   ]
  },
  {
   "cell_type": "code",
   "execution_count": 3,
   "metadata": {},
   "outputs": [],
   "source": [
    "cleaned = copy.deepcopy(destinations)\n",
    "# remove all the empty entries and QA testing entries first\n",
    "for dest in destinations:\n",
    "    if (dest.get(\"uid\") == None) or (\"QA, Test\" in dest.get(\"term\")):\n",
    "        cleaned.remove(dest)\n",
    "\n",
    "\n",
    "        "
   ]
  },
  {
   "cell_type": "code",
   "execution_count": 4,
   "metadata": {},
   "outputs": [],
   "source": [
    "# migrate only the wanted key-value pairs to the new file\n",
    "output = []\n",
    "for dest in cleaned:\n",
    "    new_dest = {}\n",
    "    new_dest[\"term\"] = dest[\"term\"]\n",
    "    new_dest[\"uid\"] = dest[\"uid\"]\n",
    "    output.append(new_dest)\n"
   ]
  },
  {
   "cell_type": "code",
   "execution_count": 5,
   "metadata": {},
   "outputs": [],
   "source": [
    "with open(\"cleaned_destinations.json\", \"w\", encoding=\"utf8\") as fout:\n",
    "    # json_object = json.dumps(output, indent=4)\n",
    "    # fout.write(json_object)\n",
    "    json.dump(output, fout)"
   ]
  }
 ],
 "metadata": {
  "kernelspec": {
   "display_name": "Python 3.10.4 64-bit",
   "language": "python",
   "name": "python3"
  },
  "language_info": {
   "codemirror_mode": {
    "name": "ipython",
    "version": 3
   },
   "file_extension": ".py",
   "mimetype": "text/x-python",
   "name": "python",
   "nbconvert_exporter": "python",
   "pygments_lexer": "ipython3",
   "version": "3.10.4"
  },
  "orig_nbformat": 4,
  "vscode": {
   "interpreter": {
    "hash": "336ea45aef74e882eaacb1f2a00a601f04fd180bfcf8a51d3bb9adf8979bffee"
   }
  }
 },
 "nbformat": 4,
 "nbformat_minor": 2
}
